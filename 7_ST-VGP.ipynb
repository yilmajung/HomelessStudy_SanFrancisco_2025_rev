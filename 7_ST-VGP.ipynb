{
 "cells": [
  {
   "cell_type": "code",
   "execution_count": 6,
   "id": "03ac8e75",
   "metadata": {},
   "outputs": [],
   "source": [
    "import pandas as pd\n",
    "import re"
   ]
  },
  {
   "cell_type": "code",
   "execution_count": 7,
   "id": "ef2ee51e",
   "metadata": {},
   "outputs": [
    {
     "name": "stdout",
     "output_type": "stream",
     "text": [
      "Preprocessing dataset...\n"
     ]
    }
   ],
   "source": [
    "df = pd.read_csv('data/df_cleaned_20250617.csv')\n",
    "\n",
    "print(\"Preprocessing dataset...\")\n",
    "df['latitude'] = df['center_latlon'].apply(lambda x: str(x.split(', ')[0]))\n",
    "df['longitude'] = df['center_latlon'].apply(lambda x: str(x.split(', ')[1]))\n",
    "df['latitude'] = df['latitude'].apply(lambda x: float(re.search(r'\\d+.\\d+', x).group()))\n",
    "df['longitude'] = df['longitude'].apply(lambda x: float(re.search(r'\\-\\d+.\\d+', x).group()))\n",
    "df['timestamp'] = pd.to_datetime(df['timestamp'])\n",
    "df['timestamp'] = (df['timestamp'] - pd.Timestamp(\"1970-01-01\")) // pd.Timedelta('1s')\n",
    "\n",
    "# Separate training data\n",
    "df_training = df.dropna(subset=['ground_truth'])\n",
    "df_test = df[df['ground_truth'].isna()]"
   ]
  },
  {
   "cell_type": "code",
   "execution_count": 8,
   "id": "2368ee4e",
   "metadata": {},
   "outputs": [
    {
     "data": {
      "text/plain": [
       "(13189054, 15)"
      ]
     },
     "execution_count": 8,
     "metadata": {},
     "output_type": "execute_result"
    }
   ],
   "source": [
    "df_test.shape"
   ]
  },
  {
   "cell_type": "code",
   "execution_count": 9,
   "id": "862ee250",
   "metadata": {},
   "outputs": [
    {
     "data": {
      "text/plain": [
       "(271992, 15)"
      ]
     },
     "execution_count": 9,
     "metadata": {},
     "output_type": "execute_result"
    }
   ],
   "source": [
    "df_training.shape"
   ]
  },
  {
   "cell_type": "code",
   "execution_count": 10,
   "id": "7506ee21",
   "metadata": {},
   "outputs": [
    {
     "data": {
      "text/html": [
       "<div>\n",
       "<style scoped>\n",
       "    .dataframe tbody tr th:only-of-type {\n",
       "        vertical-align: middle;\n",
       "    }\n",
       "\n",
       "    .dataframe tbody tr th {\n",
       "        vertical-align: top;\n",
       "    }\n",
       "\n",
       "    .dataframe thead th {\n",
       "        text-align: right;\n",
       "    }\n",
       "</style>\n",
       "<table border=\"1\" class=\"dataframe\">\n",
       "  <thead>\n",
       "    <tr style=\"text-align: right;\">\n",
       "      <th></th>\n",
       "      <th>timestamp</th>\n",
       "      <th>bboxid</th>\n",
       "      <th>GEOID</th>\n",
       "      <th>geometry_bbox</th>\n",
       "      <th>center_latlon</th>\n",
       "      <th>max</th>\n",
       "      <th>min</th>\n",
       "      <th>precipitation</th>\n",
       "      <th>total_population</th>\n",
       "      <th>white_ratio</th>\n",
       "      <th>black_ratio</th>\n",
       "      <th>hh_median_income</th>\n",
       "      <th>ground_truth</th>\n",
       "      <th>latitude</th>\n",
       "      <th>longitude</th>\n",
       "    </tr>\n",
       "  </thead>\n",
       "  <tbody>\n",
       "    <tr>\n",
       "      <th>0</th>\n",
       "      <td>1451606400</td>\n",
       "      <td>bbox_10_14</td>\n",
       "      <td>60750604002</td>\n",
       "      <td>POLYGON ((-122.4862707014277 37.71914041535512...</td>\n",
       "      <td>(37.71986168151697, -122.48535268128838)</td>\n",
       "      <td>50.0</td>\n",
       "      <td>40.0</td>\n",
       "      <td>0.00</td>\n",
       "      <td>506</td>\n",
       "      <td>0.806324</td>\n",
       "      <td>0.0</td>\n",
       "      <td>53438.0</td>\n",
       "      <td>NaN</td>\n",
       "      <td>37.719862</td>\n",
       "      <td>-122.485353</td>\n",
       "    </tr>\n",
       "    <tr>\n",
       "      <th>1</th>\n",
       "      <td>1451692800</td>\n",
       "      <td>bbox_10_14</td>\n",
       "      <td>60750604002</td>\n",
       "      <td>POLYGON ((-122.4862707014277 37.71914041535512...</td>\n",
       "      <td>(37.71986168151697, -122.48535268128838)</td>\n",
       "      <td>51.0</td>\n",
       "      <td>45.0</td>\n",
       "      <td>0.00</td>\n",
       "      <td>506</td>\n",
       "      <td>0.806324</td>\n",
       "      <td>0.0</td>\n",
       "      <td>53438.0</td>\n",
       "      <td>NaN</td>\n",
       "      <td>37.719862</td>\n",
       "      <td>-122.485353</td>\n",
       "    </tr>\n",
       "    <tr>\n",
       "      <th>2</th>\n",
       "      <td>1451779200</td>\n",
       "      <td>bbox_10_14</td>\n",
       "      <td>60750604002</td>\n",
       "      <td>POLYGON ((-122.4862707014277 37.71914041535512...</td>\n",
       "      <td>(37.71986168151697, -122.48535268128838)</td>\n",
       "      <td>55.0</td>\n",
       "      <td>46.0</td>\n",
       "      <td>0.02</td>\n",
       "      <td>506</td>\n",
       "      <td>0.806324</td>\n",
       "      <td>0.0</td>\n",
       "      <td>53438.0</td>\n",
       "      <td>NaN</td>\n",
       "      <td>37.719862</td>\n",
       "      <td>-122.485353</td>\n",
       "    </tr>\n",
       "    <tr>\n",
       "      <th>3</th>\n",
       "      <td>1451865600</td>\n",
       "      <td>bbox_10_14</td>\n",
       "      <td>60750604002</td>\n",
       "      <td>POLYGON ((-122.4862707014277 37.71914041535512...</td>\n",
       "      <td>(37.71986168151697, -122.48535268128838)</td>\n",
       "      <td>57.0</td>\n",
       "      <td>47.0</td>\n",
       "      <td>0.09</td>\n",
       "      <td>506</td>\n",
       "      <td>0.806324</td>\n",
       "      <td>0.0</td>\n",
       "      <td>53438.0</td>\n",
       "      <td>NaN</td>\n",
       "      <td>37.719862</td>\n",
       "      <td>-122.485353</td>\n",
       "    </tr>\n",
       "    <tr>\n",
       "      <th>4</th>\n",
       "      <td>1451952000</td>\n",
       "      <td>bbox_10_14</td>\n",
       "      <td>60750604002</td>\n",
       "      <td>POLYGON ((-122.4862707014277 37.71914041535512...</td>\n",
       "      <td>(37.71986168151697, -122.48535268128838)</td>\n",
       "      <td>54.0</td>\n",
       "      <td>50.0</td>\n",
       "      <td>1.18</td>\n",
       "      <td>506</td>\n",
       "      <td>0.806324</td>\n",
       "      <td>0.0</td>\n",
       "      <td>53438.0</td>\n",
       "      <td>NaN</td>\n",
       "      <td>37.719862</td>\n",
       "      <td>-122.485353</td>\n",
       "    </tr>\n",
       "  </tbody>\n",
       "</table>\n",
       "</div>"
      ],
      "text/plain": [
       "    timestamp      bboxid        GEOID  \\\n",
       "0  1451606400  bbox_10_14  60750604002   \n",
       "1  1451692800  bbox_10_14  60750604002   \n",
       "2  1451779200  bbox_10_14  60750604002   \n",
       "3  1451865600  bbox_10_14  60750604002   \n",
       "4  1451952000  bbox_10_14  60750604002   \n",
       "\n",
       "                                       geometry_bbox  \\\n",
       "0  POLYGON ((-122.4862707014277 37.71914041535512...   \n",
       "1  POLYGON ((-122.4862707014277 37.71914041535512...   \n",
       "2  POLYGON ((-122.4862707014277 37.71914041535512...   \n",
       "3  POLYGON ((-122.4862707014277 37.71914041535512...   \n",
       "4  POLYGON ((-122.4862707014277 37.71914041535512...   \n",
       "\n",
       "                              center_latlon   max   min  precipitation  \\\n",
       "0  (37.71986168151697, -122.48535268128838)  50.0  40.0           0.00   \n",
       "1  (37.71986168151697, -122.48535268128838)  51.0  45.0           0.00   \n",
       "2  (37.71986168151697, -122.48535268128838)  55.0  46.0           0.02   \n",
       "3  (37.71986168151697, -122.48535268128838)  57.0  47.0           0.09   \n",
       "4  (37.71986168151697, -122.48535268128838)  54.0  50.0           1.18   \n",
       "\n",
       "   total_population  white_ratio  black_ratio  hh_median_income  ground_truth  \\\n",
       "0               506     0.806324          0.0           53438.0           NaN   \n",
       "1               506     0.806324          0.0           53438.0           NaN   \n",
       "2               506     0.806324          0.0           53438.0           NaN   \n",
       "3               506     0.806324          0.0           53438.0           NaN   \n",
       "4               506     0.806324          0.0           53438.0           NaN   \n",
       "\n",
       "    latitude   longitude  \n",
       "0  37.719862 -122.485353  \n",
       "1  37.719862 -122.485353  \n",
       "2  37.719862 -122.485353  \n",
       "3  37.719862 -122.485353  \n",
       "4  37.719862 -122.485353  "
      ]
     },
     "execution_count": 10,
     "metadata": {},
     "output_type": "execute_result"
    }
   ],
   "source": [
    "df_test.head()"
   ]
  },
  {
   "cell_type": "code",
   "execution_count": 13,
   "id": "f7fc8ae4",
   "metadata": {},
   "outputs": [
    {
     "name": "stdout",
     "output_type": "stream",
     "text": [
      "Missing values in df_test: timestamp           0\n",
      "bboxid              0\n",
      "GEOID               0\n",
      "geometry_bbox       0\n",
      "center_latlon       0\n",
      "max                 0\n",
      "min                 0\n",
      "precipitation       0\n",
      "total_population    0\n",
      "white_ratio         0\n",
      "black_ratio         0\n",
      "hh_median_income    0\n",
      "latitude            0\n",
      "longitude           0\n",
      "dtype: int64\n"
     ]
    }
   ],
   "source": [
    "# Check for missing values in df_test except 'ground_truth'\n",
    "missing_values = df_test.drop(columns=['ground_truth']).isnull().sum()\n",
    "print(\"Missing values in df_test:\", missing_values)"
   ]
  },
  {
   "cell_type": "code",
   "execution_count": null,
   "id": "5b450c10",
   "metadata": {},
   "outputs": [],
   "source": []
  },
  {
   "cell_type": "code",
   "execution_count": null,
   "id": "d5f17677",
   "metadata": {},
   "outputs": [],
   "source": []
  },
  {
   "cell_type": "code",
   "execution_count": null,
   "id": "689bc60a",
   "metadata": {},
   "outputs": [],
   "source": []
  },
  {
   "cell_type": "code",
   "execution_count": null,
   "id": "a89f6d8f",
   "metadata": {},
   "outputs": [],
   "source": []
  }
 ],
 "metadata": {
  "kernelspec": {
   "display_name": "homeless_env",
   "language": "python",
   "name": "python3"
  },
  "language_info": {
   "codemirror_mode": {
    "name": "ipython",
    "version": 3
   },
   "file_extension": ".py",
   "mimetype": "text/x-python",
   "name": "python",
   "nbconvert_exporter": "python",
   "pygments_lexer": "ipython3",
   "version": "3.11.11"
  }
 },
 "nbformat": 4,
 "nbformat_minor": 5
}
