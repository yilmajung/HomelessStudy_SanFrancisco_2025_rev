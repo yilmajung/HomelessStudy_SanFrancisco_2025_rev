{
 "cells": [
  {
   "cell_type": "code",
   "execution_count": 25,
   "id": "03ac8e75",
   "metadata": {},
   "outputs": [],
   "source": [
    "import pandas as pd\n",
    "import numpy as np\n",
    "import re"
   ]
  },
  {
   "cell_type": "code",
   "execution_count": 4,
   "id": "ef2ee51e",
   "metadata": {},
   "outputs": [
    {
     "name": "stdout",
     "output_type": "stream",
     "text": [
      "Preprocessing dataset...\n"
     ]
    }
   ],
   "source": [
    "df = pd.read_csv('data/df_cleaned_20250617.csv')\n",
    "\n",
    "print(\"Preprocessing dataset...\")\n",
    "df['latitude'] = df['center_latlon'].apply(lambda x: str(x.split(', ')[0]))\n",
    "df['longitude'] = df['center_latlon'].apply(lambda x: str(x.split(', ')[1]))\n",
    "df['latitude'] = df['latitude'].apply(lambda x: float(re.search(r'\\d+.\\d+', x).group()))\n",
    "df['longitude'] = df['longitude'].apply(lambda x: float(re.search(r'\\-\\d+.\\d+', x).group()))\n",
    "df['timestamp_sec'] = pd.to_datetime(df['timestamp'])\n",
    "df['timestamp_sec'] = (df['timestamp_sec'] - pd.Timestamp(\"1970-01-01\")) // pd.Timedelta('1s')\n",
    "\n",
    "# Separate training data\n",
    "df_train = df.dropna(subset=['ground_truth'])\n",
    "df_test = df[df['ground_truth'].isna()]"
   ]
  },
  {
   "cell_type": "code",
   "execution_count": 46,
   "id": "4e9e99ea",
   "metadata": {},
   "outputs": [
    {
     "data": {
      "text/html": [
       "<div>\n",
       "<style scoped>\n",
       "    .dataframe tbody tr th:only-of-type {\n",
       "        vertical-align: middle;\n",
       "    }\n",
       "\n",
       "    .dataframe tbody tr th {\n",
       "        vertical-align: top;\n",
       "    }\n",
       "\n",
       "    .dataframe thead th {\n",
       "        text-align: right;\n",
       "    }\n",
       "</style>\n",
       "<table border=\"1\" class=\"dataframe\">\n",
       "  <thead>\n",
       "    <tr style=\"text-align: right;\">\n",
       "      <th></th>\n",
       "      <th>timestamp</th>\n",
       "      <th>bboxid</th>\n",
       "      <th>GEOID</th>\n",
       "      <th>geometry_bbox</th>\n",
       "      <th>center_latlon</th>\n",
       "      <th>max</th>\n",
       "      <th>min</th>\n",
       "      <th>precipitation</th>\n",
       "      <th>total_population</th>\n",
       "      <th>white_ratio</th>\n",
       "      <th>black_ratio</th>\n",
       "      <th>hh_median_income</th>\n",
       "      <th>ground_truth</th>\n",
       "      <th>latitude</th>\n",
       "      <th>longitude</th>\n",
       "      <th>timestamp_sec</th>\n",
       "    </tr>\n",
       "  </thead>\n",
       "  <tbody>\n",
       "    <tr>\n",
       "      <th>0</th>\n",
       "      <td>2016-01-01</td>\n",
       "      <td>bbox_10_14</td>\n",
       "      <td>60750604002</td>\n",
       "      <td>POLYGON ((-122.4862707014277 37.71914041535512...</td>\n",
       "      <td>(37.71986168151697, -122.48535268128838)</td>\n",
       "      <td>50.0</td>\n",
       "      <td>40.0</td>\n",
       "      <td>0.00</td>\n",
       "      <td>506</td>\n",
       "      <td>0.806324</td>\n",
       "      <td>0.0</td>\n",
       "      <td>53438.0</td>\n",
       "      <td>NaN</td>\n",
       "      <td>37.719862</td>\n",
       "      <td>-122.485353</td>\n",
       "      <td>1451606400</td>\n",
       "    </tr>\n",
       "    <tr>\n",
       "      <th>1</th>\n",
       "      <td>2016-01-02</td>\n",
       "      <td>bbox_10_14</td>\n",
       "      <td>60750604002</td>\n",
       "      <td>POLYGON ((-122.4862707014277 37.71914041535512...</td>\n",
       "      <td>(37.71986168151697, -122.48535268128838)</td>\n",
       "      <td>51.0</td>\n",
       "      <td>45.0</td>\n",
       "      <td>0.00</td>\n",
       "      <td>506</td>\n",
       "      <td>0.806324</td>\n",
       "      <td>0.0</td>\n",
       "      <td>53438.0</td>\n",
       "      <td>NaN</td>\n",
       "      <td>37.719862</td>\n",
       "      <td>-122.485353</td>\n",
       "      <td>1451692800</td>\n",
       "    </tr>\n",
       "    <tr>\n",
       "      <th>2</th>\n",
       "      <td>2016-01-03</td>\n",
       "      <td>bbox_10_14</td>\n",
       "      <td>60750604002</td>\n",
       "      <td>POLYGON ((-122.4862707014277 37.71914041535512...</td>\n",
       "      <td>(37.71986168151697, -122.48535268128838)</td>\n",
       "      <td>55.0</td>\n",
       "      <td>46.0</td>\n",
       "      <td>0.02</td>\n",
       "      <td>506</td>\n",
       "      <td>0.806324</td>\n",
       "      <td>0.0</td>\n",
       "      <td>53438.0</td>\n",
       "      <td>NaN</td>\n",
       "      <td>37.719862</td>\n",
       "      <td>-122.485353</td>\n",
       "      <td>1451779200</td>\n",
       "    </tr>\n",
       "    <tr>\n",
       "      <th>3</th>\n",
       "      <td>2016-01-04</td>\n",
       "      <td>bbox_10_14</td>\n",
       "      <td>60750604002</td>\n",
       "      <td>POLYGON ((-122.4862707014277 37.71914041535512...</td>\n",
       "      <td>(37.71986168151697, -122.48535268128838)</td>\n",
       "      <td>57.0</td>\n",
       "      <td>47.0</td>\n",
       "      <td>0.09</td>\n",
       "      <td>506</td>\n",
       "      <td>0.806324</td>\n",
       "      <td>0.0</td>\n",
       "      <td>53438.0</td>\n",
       "      <td>NaN</td>\n",
       "      <td>37.719862</td>\n",
       "      <td>-122.485353</td>\n",
       "      <td>1451865600</td>\n",
       "    </tr>\n",
       "    <tr>\n",
       "      <th>4</th>\n",
       "      <td>2016-01-05</td>\n",
       "      <td>bbox_10_14</td>\n",
       "      <td>60750604002</td>\n",
       "      <td>POLYGON ((-122.4862707014277 37.71914041535512...</td>\n",
       "      <td>(37.71986168151697, -122.48535268128838)</td>\n",
       "      <td>54.0</td>\n",
       "      <td>50.0</td>\n",
       "      <td>1.18</td>\n",
       "      <td>506</td>\n",
       "      <td>0.806324</td>\n",
       "      <td>0.0</td>\n",
       "      <td>53438.0</td>\n",
       "      <td>NaN</td>\n",
       "      <td>37.719862</td>\n",
       "      <td>-122.485353</td>\n",
       "      <td>1451952000</td>\n",
       "    </tr>\n",
       "  </tbody>\n",
       "</table>\n",
       "</div>"
      ],
      "text/plain": [
       "    timestamp      bboxid        GEOID  \\\n",
       "0  2016-01-01  bbox_10_14  60750604002   \n",
       "1  2016-01-02  bbox_10_14  60750604002   \n",
       "2  2016-01-03  bbox_10_14  60750604002   \n",
       "3  2016-01-04  bbox_10_14  60750604002   \n",
       "4  2016-01-05  bbox_10_14  60750604002   \n",
       "\n",
       "                                       geometry_bbox  \\\n",
       "0  POLYGON ((-122.4862707014277 37.71914041535512...   \n",
       "1  POLYGON ((-122.4862707014277 37.71914041535512...   \n",
       "2  POLYGON ((-122.4862707014277 37.71914041535512...   \n",
       "3  POLYGON ((-122.4862707014277 37.71914041535512...   \n",
       "4  POLYGON ((-122.4862707014277 37.71914041535512...   \n",
       "\n",
       "                              center_latlon   max   min  precipitation  \\\n",
       "0  (37.71986168151697, -122.48535268128838)  50.0  40.0           0.00   \n",
       "1  (37.71986168151697, -122.48535268128838)  51.0  45.0           0.00   \n",
       "2  (37.71986168151697, -122.48535268128838)  55.0  46.0           0.02   \n",
       "3  (37.71986168151697, -122.48535268128838)  57.0  47.0           0.09   \n",
       "4  (37.71986168151697, -122.48535268128838)  54.0  50.0           1.18   \n",
       "\n",
       "   total_population  white_ratio  black_ratio  hh_median_income  ground_truth  \\\n",
       "0               506     0.806324          0.0           53438.0           NaN   \n",
       "1               506     0.806324          0.0           53438.0           NaN   \n",
       "2               506     0.806324          0.0           53438.0           NaN   \n",
       "3               506     0.806324          0.0           53438.0           NaN   \n",
       "4               506     0.806324          0.0           53438.0           NaN   \n",
       "\n",
       "    latitude   longitude  timestamp_sec  \n",
       "0  37.719862 -122.485353     1451606400  \n",
       "1  37.719862 -122.485353     1451692800  \n",
       "2  37.719862 -122.485353     1451779200  \n",
       "3  37.719862 -122.485353     1451865600  \n",
       "4  37.719862 -122.485353     1451952000  "
      ]
     },
     "execution_count": 46,
     "metadata": {},
     "output_type": "execute_result"
    }
   ],
   "source": [
    "df.head()"
   ]
  },
  {
   "cell_type": "code",
   "execution_count": 51,
   "id": "88ce090d",
   "metadata": {},
   "outputs": [
    {
     "name": "stdout",
     "output_type": "stream",
     "text": [
      "3074\n",
      "4379\n"
     ]
    }
   ],
   "source": [
    "print(len(df['timestamp'].unique()))\n",
    "print(len(df['bboxid'].unique()))"
   ]
  },
  {
   "cell_type": "code",
   "execution_count": 54,
   "id": "4bd86f82",
   "metadata": {},
   "outputs": [
    {
     "name": "stdout",
     "output_type": "stream",
     "text": [
      "2024-05-31\n",
      "2016-01-01\n"
     ]
    }
   ],
   "source": [
    "print(df['timestamp'].max())\n",
    "print(df['timestamp'].min())"
   ]
  },
  {
   "cell_type": "code",
   "execution_count": 56,
   "id": "63adbb5f",
   "metadata": {},
   "outputs": [
    {
     "data": {
      "text/plain": [
       "13461046"
      ]
     },
     "execution_count": 56,
     "metadata": {},
     "output_type": "execute_result"
    }
   ],
   "source": [
    "3074*4379"
   ]
  },
  {
   "cell_type": "code",
   "execution_count": 55,
   "id": "64c1d796",
   "metadata": {},
   "outputs": [
    {
     "data": {
      "text/plain": [
       "(13461046, 16)"
      ]
     },
     "execution_count": 55,
     "metadata": {},
     "output_type": "execute_result"
    }
   ],
   "source": [
    "df.shape"
   ]
  },
  {
   "cell_type": "code",
   "execution_count": 49,
   "id": "1670b212",
   "metadata": {},
   "outputs": [
    {
     "data": {
      "text/plain": [
       "(228183, 16)"
      ]
     },
     "execution_count": 49,
     "metadata": {},
     "output_type": "execute_result"
    }
   ],
   "source": [
    "df[df['ground_truth']>=1].shape"
   ]
  },
  {
   "cell_type": "code",
   "execution_count": 47,
   "id": "542cecd0",
   "metadata": {},
   "outputs": [
    {
     "data": {
      "text/plain": [
       "ground_truth\n",
       "1.0     178818\n",
       "0.0      43809\n",
       "2.0      33816\n",
       "3.0       9903\n",
       "4.0       3442\n",
       "5.0       1252\n",
       "6.0        524\n",
       "7.0        233\n",
       "8.0         96\n",
       "9.0         50\n",
       "10.0        26\n",
       "11.0         9\n",
       "12.0         7\n",
       "13.0         5\n",
       "15.0         2\n",
       "Name: count, dtype: int64"
      ]
     },
     "execution_count": 47,
     "metadata": {},
     "output_type": "execute_result"
    }
   ],
   "source": [
    "df['ground_truth'].value_counts()"
   ]
  },
  {
   "cell_type": "code",
   "execution_count": 30,
   "id": "e2b979d7",
   "metadata": {},
   "outputs": [
    {
     "data": {
      "text/plain": [
       "3074"
      ]
     },
     "execution_count": 30,
     "metadata": {},
     "output_type": "execute_result"
    }
   ],
   "source": [
    "len(df['timestamp_sec'].unique())"
   ]
  },
  {
   "cell_type": "code",
   "execution_count": 34,
   "id": "c49d610d",
   "metadata": {},
   "outputs": [
    {
     "data": {
      "text/html": [
       "<div>\n",
       "<style scoped>\n",
       "    .dataframe tbody tr th:only-of-type {\n",
       "        vertical-align: middle;\n",
       "    }\n",
       "\n",
       "    .dataframe tbody tr th {\n",
       "        vertical-align: top;\n",
       "    }\n",
       "\n",
       "    .dataframe thead th {\n",
       "        text-align: right;\n",
       "    }\n",
       "</style>\n",
       "<table border=\"1\" class=\"dataframe\">\n",
       "  <thead>\n",
       "    <tr style=\"text-align: right;\">\n",
       "      <th></th>\n",
       "      <th>bboxid</th>\n",
       "      <th>ground_truth</th>\n",
       "    </tr>\n",
       "  </thead>\n",
       "  <tbody>\n",
       "    <tr>\n",
       "      <th>0</th>\n",
       "      <td>bbox_10_14</td>\n",
       "      <td>0.333333</td>\n",
       "    </tr>\n",
       "    <tr>\n",
       "      <th>1</th>\n",
       "      <td>bbox_10_15</td>\n",
       "      <td>0.000000</td>\n",
       "    </tr>\n",
       "    <tr>\n",
       "      <th>2</th>\n",
       "      <td>bbox_10_16</td>\n",
       "      <td>0.000000</td>\n",
       "    </tr>\n",
       "    <tr>\n",
       "      <th>3</th>\n",
       "      <td>bbox_10_17</td>\n",
       "      <td>0.500000</td>\n",
       "    </tr>\n",
       "    <tr>\n",
       "      <th>4</th>\n",
       "      <td>bbox_10_18</td>\n",
       "      <td>0.000000</td>\n",
       "    </tr>\n",
       "    <tr>\n",
       "      <th>...</th>\n",
       "      <td>...</td>\n",
       "      <td>...</td>\n",
       "    </tr>\n",
       "    <tr>\n",
       "      <th>4374</th>\n",
       "      <td>bbox_9_64</td>\n",
       "      <td>0.666667</td>\n",
       "    </tr>\n",
       "    <tr>\n",
       "      <th>4375</th>\n",
       "      <td>bbox_9_65</td>\n",
       "      <td>0.666667</td>\n",
       "    </tr>\n",
       "    <tr>\n",
       "      <th>4376</th>\n",
       "      <td>bbox_9_66</td>\n",
       "      <td>0.666667</td>\n",
       "    </tr>\n",
       "    <tr>\n",
       "      <th>4377</th>\n",
       "      <td>bbox_9_67</td>\n",
       "      <td>0.500000</td>\n",
       "    </tr>\n",
       "    <tr>\n",
       "      <th>4378</th>\n",
       "      <td>bbox_9_68</td>\n",
       "      <td>0.666667</td>\n",
       "    </tr>\n",
       "  </tbody>\n",
       "</table>\n",
       "<p>4379 rows × 2 columns</p>\n",
       "</div>"
      ],
      "text/plain": [
       "          bboxid  ground_truth\n",
       "0     bbox_10_14      0.333333\n",
       "1     bbox_10_15      0.000000\n",
       "2     bbox_10_16      0.000000\n",
       "3     bbox_10_17      0.500000\n",
       "4     bbox_10_18      0.000000\n",
       "...          ...           ...\n",
       "4374   bbox_9_64      0.666667\n",
       "4375   bbox_9_65      0.666667\n",
       "4376   bbox_9_66      0.666667\n",
       "4377   bbox_9_67      0.500000\n",
       "4378   bbox_9_68      0.666667\n",
       "\n",
       "[4379 rows x 2 columns]"
      ]
     },
     "execution_count": 34,
     "metadata": {},
     "output_type": "execute_result"
    }
   ],
   "source": [
    "df_train.groupby('bboxid')['ground_truth'].mean().reset_index()"
   ]
  },
  {
   "cell_type": "code",
   "execution_count": 41,
   "id": "0596e399",
   "metadata": {},
   "outputs": [
    {
     "data": {
      "text/plain": [
       "array(['bbox_26_1', 'bbox_41_43', 'bbox_53_47', 'bbox_57_27', 'bbox_5_47',\n",
       "       'bbox_45_60', 'bbox_57_50', 'bbox_44_60', 'bbox_43_45',\n",
       "       'bbox_57_49'], dtype=object)"
      ]
     },
     "execution_count": 41,
     "metadata": {},
     "output_type": "execute_result"
    }
   ],
   "source": [
    "bbox_counts = df_train.groupby('bboxid')['ground_truth'].mean().reset_index()\n",
    "bboxids = df_train['bboxid'].values\n",
    "\n",
    "# Top k bounding boxes by density (tent count)\n",
    "top10 = bbox_counts.nlargest(10, 'ground_truth')['bboxid'].values\n",
    "top10\n"
   ]
  },
  {
   "cell_type": "code",
   "execution_count": 40,
   "id": "1a755db2",
   "metadata": {},
   "outputs": [
    {
     "data": {
      "text/plain": [
       "array([ 59769,  59770,  59771, ..., 262053, 262054, 262055])"
      ]
     },
     "execution_count": 40,
     "metadata": {},
     "output_type": "execute_result"
    }
   ],
   "source": [
    "np.where(df_train['bboxid'].isin(top10))[0]"
   ]
  },
  {
   "cell_type": "code",
   "execution_count": 45,
   "id": "2b0c6fdb",
   "metadata": {},
   "outputs": [
    {
     "data": {
      "text/plain": [
       "2"
      ]
     },
     "execution_count": 45,
     "metadata": {},
     "output_type": "execute_result"
    }
   ],
   "source": [
    "8%3"
   ]
  },
  {
   "cell_type": "code",
   "execution_count": 42,
   "id": "be3154f7",
   "metadata": {},
   "outputs": [
    {
     "data": {
      "text/plain": [
       "array([ 59769,  59770,  59771, ..., 262053, 262054, 262055])"
      ]
     },
     "execution_count": 42,
     "metadata": {},
     "output_type": "execute_result"
    }
   ],
   "source": [
    "np.where(np.isin(bboxids, top10))[0]"
   ]
  },
  {
   "cell_type": "code",
   "execution_count": 5,
   "id": "bd9f284d",
   "metadata": {},
   "outputs": [
    {
     "data": {
      "text/html": [
       "<div>\n",
       "<style scoped>\n",
       "    .dataframe tbody tr th:only-of-type {\n",
       "        vertical-align: middle;\n",
       "    }\n",
       "\n",
       "    .dataframe tbody tr th {\n",
       "        vertical-align: top;\n",
       "    }\n",
       "\n",
       "    .dataframe thead th {\n",
       "        text-align: right;\n",
       "    }\n",
       "</style>\n",
       "<table border=\"1\" class=\"dataframe\">\n",
       "  <thead>\n",
       "    <tr style=\"text-align: right;\">\n",
       "      <th></th>\n",
       "      <th>timestamp</th>\n",
       "      <th>bboxid</th>\n",
       "      <th>GEOID</th>\n",
       "      <th>geometry_bbox</th>\n",
       "      <th>center_latlon</th>\n",
       "      <th>max</th>\n",
       "      <th>min</th>\n",
       "      <th>precipitation</th>\n",
       "      <th>total_population</th>\n",
       "      <th>white_ratio</th>\n",
       "      <th>black_ratio</th>\n",
       "      <th>hh_median_income</th>\n",
       "      <th>ground_truth</th>\n",
       "      <th>latitude</th>\n",
       "      <th>longitude</th>\n",
       "      <th>timestamp_sec</th>\n",
       "    </tr>\n",
       "  </thead>\n",
       "  <tbody>\n",
       "    <tr>\n",
       "      <th>313</th>\n",
       "      <td>2016-11-09</td>\n",
       "      <td>bbox_10_14</td>\n",
       "      <td>60750604002</td>\n",
       "      <td>POLYGON ((-122.4862707014277 37.71914041535512...</td>\n",
       "      <td>(37.71986168151697, -122.48535268128838)</td>\n",
       "      <td>73.0</td>\n",
       "      <td>58.0</td>\n",
       "      <td>0.0</td>\n",
       "      <td>506</td>\n",
       "      <td>0.806324</td>\n",
       "      <td>0.000000</td>\n",
       "      <td>53438.0</td>\n",
       "      <td>0.0</td>\n",
       "      <td>37.719862</td>\n",
       "      <td>-122.485353</td>\n",
       "      <td>1478649600</td>\n",
       "    </tr>\n",
       "    <tr>\n",
       "      <th>314</th>\n",
       "      <td>2016-11-10</td>\n",
       "      <td>bbox_10_14</td>\n",
       "      <td>60750604002</td>\n",
       "      <td>POLYGON ((-122.4862707014277 37.71914041535512...</td>\n",
       "      <td>(37.71986168151697, -122.48535268128838)</td>\n",
       "      <td>74.0</td>\n",
       "      <td>60.0</td>\n",
       "      <td>0.0</td>\n",
       "      <td>506</td>\n",
       "      <td>0.806324</td>\n",
       "      <td>0.000000</td>\n",
       "      <td>53438.0</td>\n",
       "      <td>0.0</td>\n",
       "      <td>37.719862</td>\n",
       "      <td>-122.485353</td>\n",
       "      <td>1478736000</td>\n",
       "    </tr>\n",
       "    <tr>\n",
       "      <th>2141</th>\n",
       "      <td>2016-11-10</td>\n",
       "      <td>bbox_10_15</td>\n",
       "      <td>60750332043</td>\n",
       "      <td>POLYGON ((-122.48444469610592 37.7191324443233...</td>\n",
       "      <td>(37.71985369613769, -122.4835266585265)</td>\n",
       "      <td>74.0</td>\n",
       "      <td>60.0</td>\n",
       "      <td>0.0</td>\n",
       "      <td>1852</td>\n",
       "      <td>0.266199</td>\n",
       "      <td>0.075054</td>\n",
       "      <td>77813.0</td>\n",
       "      <td>0.0</td>\n",
       "      <td>37.719854</td>\n",
       "      <td>-122.483527</td>\n",
       "      <td>1478736000</td>\n",
       "    </tr>\n",
       "    <tr>\n",
       "      <th>3967</th>\n",
       "      <td>2016-11-09</td>\n",
       "      <td>bbox_10_16</td>\n",
       "      <td>60750332043</td>\n",
       "      <td>POLYGON ((-122.48261869150517 37.7191244450116...</td>\n",
       "      <td>(37.719845682477825, -122.48170063648698)</td>\n",
       "      <td>73.0</td>\n",
       "      <td>58.0</td>\n",
       "      <td>0.0</td>\n",
       "      <td>1852</td>\n",
       "      <td>0.266199</td>\n",
       "      <td>0.075054</td>\n",
       "      <td>77813.0</td>\n",
       "      <td>0.0</td>\n",
       "      <td>37.719846</td>\n",
       "      <td>-122.481701</td>\n",
       "      <td>1478649600</td>\n",
       "    </tr>\n",
       "    <tr>\n",
       "      <th>3968</th>\n",
       "      <td>2016-11-10</td>\n",
       "      <td>bbox_10_16</td>\n",
       "      <td>60750332043</td>\n",
       "      <td>POLYGON ((-122.48261869150517 37.7191244450116...</td>\n",
       "      <td>(37.719845682477825, -122.48170063648698)</td>\n",
       "      <td>74.0</td>\n",
       "      <td>60.0</td>\n",
       "      <td>0.0</td>\n",
       "      <td>1852</td>\n",
       "      <td>0.266199</td>\n",
       "      <td>0.075054</td>\n",
       "      <td>77813.0</td>\n",
       "      <td>0.0</td>\n",
       "      <td>37.719846</td>\n",
       "      <td>-122.481701</td>\n",
       "      <td>1478736000</td>\n",
       "    </tr>\n",
       "  </tbody>\n",
       "</table>\n",
       "</div>"
      ],
      "text/plain": [
       "       timestamp      bboxid        GEOID  \\\n",
       "313   2016-11-09  bbox_10_14  60750604002   \n",
       "314   2016-11-10  bbox_10_14  60750604002   \n",
       "2141  2016-11-10  bbox_10_15  60750332043   \n",
       "3967  2016-11-09  bbox_10_16  60750332043   \n",
       "3968  2016-11-10  bbox_10_16  60750332043   \n",
       "\n",
       "                                          geometry_bbox  \\\n",
       "313   POLYGON ((-122.4862707014277 37.71914041535512...   \n",
       "314   POLYGON ((-122.4862707014277 37.71914041535512...   \n",
       "2141  POLYGON ((-122.48444469610592 37.7191324443233...   \n",
       "3967  POLYGON ((-122.48261869150517 37.7191244450116...   \n",
       "3968  POLYGON ((-122.48261869150517 37.7191244450116...   \n",
       "\n",
       "                                  center_latlon   max   min  precipitation  \\\n",
       "313    (37.71986168151697, -122.48535268128838)  73.0  58.0            0.0   \n",
       "314    (37.71986168151697, -122.48535268128838)  74.0  60.0            0.0   \n",
       "2141    (37.71985369613769, -122.4835266585265)  74.0  60.0            0.0   \n",
       "3967  (37.719845682477825, -122.48170063648698)  73.0  58.0            0.0   \n",
       "3968  (37.719845682477825, -122.48170063648698)  74.0  60.0            0.0   \n",
       "\n",
       "      total_population  white_ratio  black_ratio  hh_median_income  \\\n",
       "313                506     0.806324     0.000000           53438.0   \n",
       "314                506     0.806324     0.000000           53438.0   \n",
       "2141              1852     0.266199     0.075054           77813.0   \n",
       "3967              1852     0.266199     0.075054           77813.0   \n",
       "3968              1852     0.266199     0.075054           77813.0   \n",
       "\n",
       "      ground_truth   latitude   longitude  timestamp_sec  \n",
       "313            0.0  37.719862 -122.485353     1478649600  \n",
       "314            0.0  37.719862 -122.485353     1478736000  \n",
       "2141           0.0  37.719854 -122.483527     1478736000  \n",
       "3967           0.0  37.719846 -122.481701     1478649600  \n",
       "3968           0.0  37.719846 -122.481701     1478736000  "
      ]
     },
     "execution_count": 5,
     "metadata": {},
     "output_type": "execute_result"
    }
   ],
   "source": [
    "df_train.head()"
   ]
  },
  {
   "cell_type": "code",
   "execution_count": 22,
   "id": "df5b804d",
   "metadata": {},
   "outputs": [
    {
     "data": {
      "text/plain": [
       "1"
      ]
     },
     "execution_count": 22,
     "metadata": {},
     "output_type": "execute_result"
    }
   ],
   "source": [
    "9 // 5"
   ]
  },
  {
   "cell_type": "code",
   "execution_count": null,
   "id": "8f107762",
   "metadata": {},
   "outputs": [
    {
     "name": "stderr",
     "output_type": "stream",
     "text": [
      "/var/folders/y6/z9h695vx2w3gbjh7z32h4j9m0000gn/T/ipykernel_55136/4101039952.py:1: SettingWithCopyWarning: \n",
      "A value is trying to be set on a copy of a slice from a DataFrame.\n",
      "Try using .loc[row_indexer,col_indexer] = value instead\n",
      "\n",
      "See the caveats in the documentation: https://pandas.pydata.org/pandas-docs/stable/user_guide/indexing.html#returning-a-view-versus-a-copy\n",
      "  df_train['timestamp'] = pd.to_datetime(df_train['timestamp'])\n",
      "/var/folders/y6/z9h695vx2w3gbjh7z32h4j9m0000gn/T/ipykernel_55136/4101039952.py:4: SettingWithCopyWarning: \n",
      "A value is trying to be set on a copy of a slice from a DataFrame.\n",
      "Try using .loc[row_indexer,col_indexer] = value instead\n",
      "\n",
      "See the caveats in the documentation: https://pandas.pydata.org/pandas-docs/stable/user_guide/indexing.html#returning-a-view-versus-a-copy\n",
      "  df_train['year'] = df_train['timestamp'].dt.year\n",
      "/var/folders/y6/z9h695vx2w3gbjh7z32h4j9m0000gn/T/ipykernel_55136/4101039952.py:5: SettingWithCopyWarning: \n",
      "A value is trying to be set on a copy of a slice from a DataFrame.\n",
      "Try using .loc[row_indexer,col_indexer] = value instead\n",
      "\n",
      "See the caveats in the documentation: https://pandas.pydata.org/pandas-docs/stable/user_guide/indexing.html#returning-a-view-versus-a-copy\n",
      "  df_train['month'] = df_train['timestamp'].dt.month\n",
      "/var/folders/y6/z9h695vx2w3gbjh7z32h4j9m0000gn/T/ipykernel_55136/4101039952.py:6: SettingWithCopyWarning: \n",
      "A value is trying to be set on a copy of a slice from a DataFrame.\n",
      "Try using .loc[row_indexer,col_indexer] = value instead\n",
      "\n",
      "See the caveats in the documentation: https://pandas.pydata.org/pandas-docs/stable/user_guide/indexing.html#returning-a-view-versus-a-copy\n",
      "  df_train['day'] = df_train['timestamp'].dt.day\n"
     ]
    }
   ],
   "source": [
    "df_train['timestamp'] = pd.to_datetime(df_train['timestamp'])\n",
    "\n",
    "# Extracting year, month, day\n",
    "df_train['year'] = df_train['timestamp'].dt.year\n",
    "df_train['month'] = df_train['timestamp'].dt.month\n",
    "df_train['day'] = df_train['timestamp'].dt.day"
   ]
  },
  {
   "cell_type": "code",
   "execution_count": 16,
   "id": "2368ee4e",
   "metadata": {},
   "outputs": [
    {
     "data": {
      "text/html": [
       "<div>\n",
       "<style scoped>\n",
       "    .dataframe tbody tr th:only-of-type {\n",
       "        vertical-align: middle;\n",
       "    }\n",
       "\n",
       "    .dataframe tbody tr th {\n",
       "        vertical-align: top;\n",
       "    }\n",
       "\n",
       "    .dataframe thead th {\n",
       "        text-align: right;\n",
       "    }\n",
       "</style>\n",
       "<table border=\"1\" class=\"dataframe\">\n",
       "  <thead>\n",
       "    <tr style=\"text-align: right;\">\n",
       "      <th></th>\n",
       "      <th>year</th>\n",
       "      <th>count</th>\n",
       "    </tr>\n",
       "  </thead>\n",
       "  <tbody>\n",
       "    <tr>\n",
       "      <th>0</th>\n",
       "      <td>2016</td>\n",
       "      <td>32410</td>\n",
       "    </tr>\n",
       "    <tr>\n",
       "      <th>1</th>\n",
       "      <td>2017</td>\n",
       "      <td>37597</td>\n",
       "    </tr>\n",
       "    <tr>\n",
       "      <th>2</th>\n",
       "      <td>2018</td>\n",
       "      <td>56404</td>\n",
       "    </tr>\n",
       "    <tr>\n",
       "      <th>3</th>\n",
       "      <td>2019</td>\n",
       "      <td>43336</td>\n",
       "    </tr>\n",
       "    <tr>\n",
       "      <th>4</th>\n",
       "      <td>2020</td>\n",
       "      <td>31729</td>\n",
       "    </tr>\n",
       "    <tr>\n",
       "      <th>5</th>\n",
       "      <td>2021</td>\n",
       "      <td>19420</td>\n",
       "    </tr>\n",
       "    <tr>\n",
       "      <th>6</th>\n",
       "      <td>2022</td>\n",
       "      <td>20779</td>\n",
       "    </tr>\n",
       "    <tr>\n",
       "      <th>7</th>\n",
       "      <td>2023</td>\n",
       "      <td>22372</td>\n",
       "    </tr>\n",
       "    <tr>\n",
       "      <th>8</th>\n",
       "      <td>2024</td>\n",
       "      <td>7945</td>\n",
       "    </tr>\n",
       "  </tbody>\n",
       "</table>\n",
       "</div>"
      ],
      "text/plain": [
       "   year  count\n",
       "0  2016  32410\n",
       "1  2017  37597\n",
       "2  2018  56404\n",
       "3  2019  43336\n",
       "4  2020  31729\n",
       "5  2021  19420\n",
       "6  2022  20779\n",
       "7  2023  22372\n",
       "8  2024   7945"
      ]
     },
     "execution_count": 16,
     "metadata": {},
     "output_type": "execute_result"
    }
   ],
   "source": [
    "# Group by year and count occurrences\n",
    "\n",
    "df_yearly_counts = df_train.groupby(['year']).size().reset_index(name='count')\n",
    "df_yearly_counts"
   ]
  },
  {
   "cell_type": "code",
   "execution_count": null,
   "id": "862ee250",
   "metadata": {},
   "outputs": [],
   "source": [
    "def make_time_forward_splits(year, n_splits=3, horizon_years=1):\n",
    "    \"\"\"\n",
    "    Create time-forward splits for cross-validation.\n",
    "    \"\"\"\n",
    "    unique_years = np.sort(np.unique(year)) #2016, 2017, 2018, 2019, 2020, 2021, 2022, 2023, 2024\n",
    "    splits = []\n",
    "    max_idx = len(unique_years) - horizon_years\n",
    "    block = max_idx // n_splits\n",
    "\n",
    "    for k in range(n_splits):\n",
    "        train_end = unique_years[(k+1)*block-1] #block=2, train_end=2017, 2019, 2021\n",
    "        val_start = unique_years[(k+1)*block] #val_start=2018, 2020, 2022\n",
    "        val_end = val_start + horizon_years #val_end=2019, 2021, 2023\n",
    "        train_idx = np.where(year <= train_end)[0]\n",
    "        val_idx = np.where((year > train_end) & (year <= val_end))[0]\n",
    "        splits.append((train_idx, val_idx))\n",
    "    \n",
    "    return splits"
   ]
  },
  {
   "cell_type": "code",
   "execution_count": 29,
   "id": "17faa6ed",
   "metadata": {},
   "outputs": [
    {
     "data": {
      "text/plain": [
       "[(array([     0,      1,      2, ..., 201473, 201474, 201475]),\n",
       "  array([    15,     16,     17, ..., 201469, 201470, 201472])),\n",
       " (array([     0,      1,      2, ..., 201473, 201474, 201475]),\n",
       "  array([    23,     40,     65, ..., 271987, 271990, 271991])),\n",
       " (array([     0,      1,      2, ..., 271955, 271956, 271987]),\n",
       "  array([201476, 201482, 201484, ..., 271989, 271990, 271991]))]"
      ]
     },
     "execution_count": 29,
     "metadata": {},
     "output_type": "execute_result"
    }
   ],
   "source": [
    "make_time_forward_splits(df_train['year'].values, n_splits=3, horizon_years=2)"
   ]
  },
  {
   "cell_type": "code",
   "execution_count": 18,
   "id": "99fd8703",
   "metadata": {},
   "outputs": [
    {
     "data": {
      "text/plain": [
       "ground_truth\n",
       "1.0     178818\n",
       "0.0      43809\n",
       "2.0      33816\n",
       "3.0       9903\n",
       "4.0       3442\n",
       "5.0       1252\n",
       "6.0        524\n",
       "7.0        233\n",
       "8.0         96\n",
       "9.0         50\n",
       "10.0        26\n",
       "11.0         9\n",
       "12.0         7\n",
       "13.0         5\n",
       "15.0         2\n",
       "Name: count, dtype: int64"
      ]
     },
     "execution_count": 18,
     "metadata": {},
     "output_type": "execute_result"
    }
   ],
   "source": [
    "df_train['ground_truth'].value_counts()"
   ]
  },
  {
   "cell_type": "code",
   "execution_count": 10,
   "id": "7506ee21",
   "metadata": {},
   "outputs": [
    {
     "data": {
      "text/html": [
       "<div>\n",
       "<style scoped>\n",
       "    .dataframe tbody tr th:only-of-type {\n",
       "        vertical-align: middle;\n",
       "    }\n",
       "\n",
       "    .dataframe tbody tr th {\n",
       "        vertical-align: top;\n",
       "    }\n",
       "\n",
       "    .dataframe thead th {\n",
       "        text-align: right;\n",
       "    }\n",
       "</style>\n",
       "<table border=\"1\" class=\"dataframe\">\n",
       "  <thead>\n",
       "    <tr style=\"text-align: right;\">\n",
       "      <th></th>\n",
       "      <th>timestamp</th>\n",
       "      <th>bboxid</th>\n",
       "      <th>GEOID</th>\n",
       "      <th>geometry_bbox</th>\n",
       "      <th>center_latlon</th>\n",
       "      <th>max</th>\n",
       "      <th>min</th>\n",
       "      <th>precipitation</th>\n",
       "      <th>total_population</th>\n",
       "      <th>white_ratio</th>\n",
       "      <th>black_ratio</th>\n",
       "      <th>hh_median_income</th>\n",
       "      <th>ground_truth</th>\n",
       "      <th>latitude</th>\n",
       "      <th>longitude</th>\n",
       "    </tr>\n",
       "  </thead>\n",
       "  <tbody>\n",
       "    <tr>\n",
       "      <th>0</th>\n",
       "      <td>1451606400</td>\n",
       "      <td>bbox_10_14</td>\n",
       "      <td>60750604002</td>\n",
       "      <td>POLYGON ((-122.4862707014277 37.71914041535512...</td>\n",
       "      <td>(37.71986168151697, -122.48535268128838)</td>\n",
       "      <td>50.0</td>\n",
       "      <td>40.0</td>\n",
       "      <td>0.00</td>\n",
       "      <td>506</td>\n",
       "      <td>0.806324</td>\n",
       "      <td>0.0</td>\n",
       "      <td>53438.0</td>\n",
       "      <td>NaN</td>\n",
       "      <td>37.719862</td>\n",
       "      <td>-122.485353</td>\n",
       "    </tr>\n",
       "    <tr>\n",
       "      <th>1</th>\n",
       "      <td>1451692800</td>\n",
       "      <td>bbox_10_14</td>\n",
       "      <td>60750604002</td>\n",
       "      <td>POLYGON ((-122.4862707014277 37.71914041535512...</td>\n",
       "      <td>(37.71986168151697, -122.48535268128838)</td>\n",
       "      <td>51.0</td>\n",
       "      <td>45.0</td>\n",
       "      <td>0.00</td>\n",
       "      <td>506</td>\n",
       "      <td>0.806324</td>\n",
       "      <td>0.0</td>\n",
       "      <td>53438.0</td>\n",
       "      <td>NaN</td>\n",
       "      <td>37.719862</td>\n",
       "      <td>-122.485353</td>\n",
       "    </tr>\n",
       "    <tr>\n",
       "      <th>2</th>\n",
       "      <td>1451779200</td>\n",
       "      <td>bbox_10_14</td>\n",
       "      <td>60750604002</td>\n",
       "      <td>POLYGON ((-122.4862707014277 37.71914041535512...</td>\n",
       "      <td>(37.71986168151697, -122.48535268128838)</td>\n",
       "      <td>55.0</td>\n",
       "      <td>46.0</td>\n",
       "      <td>0.02</td>\n",
       "      <td>506</td>\n",
       "      <td>0.806324</td>\n",
       "      <td>0.0</td>\n",
       "      <td>53438.0</td>\n",
       "      <td>NaN</td>\n",
       "      <td>37.719862</td>\n",
       "      <td>-122.485353</td>\n",
       "    </tr>\n",
       "    <tr>\n",
       "      <th>3</th>\n",
       "      <td>1451865600</td>\n",
       "      <td>bbox_10_14</td>\n",
       "      <td>60750604002</td>\n",
       "      <td>POLYGON ((-122.4862707014277 37.71914041535512...</td>\n",
       "      <td>(37.71986168151697, -122.48535268128838)</td>\n",
       "      <td>57.0</td>\n",
       "      <td>47.0</td>\n",
       "      <td>0.09</td>\n",
       "      <td>506</td>\n",
       "      <td>0.806324</td>\n",
       "      <td>0.0</td>\n",
       "      <td>53438.0</td>\n",
       "      <td>NaN</td>\n",
       "      <td>37.719862</td>\n",
       "      <td>-122.485353</td>\n",
       "    </tr>\n",
       "    <tr>\n",
       "      <th>4</th>\n",
       "      <td>1451952000</td>\n",
       "      <td>bbox_10_14</td>\n",
       "      <td>60750604002</td>\n",
       "      <td>POLYGON ((-122.4862707014277 37.71914041535512...</td>\n",
       "      <td>(37.71986168151697, -122.48535268128838)</td>\n",
       "      <td>54.0</td>\n",
       "      <td>50.0</td>\n",
       "      <td>1.18</td>\n",
       "      <td>506</td>\n",
       "      <td>0.806324</td>\n",
       "      <td>0.0</td>\n",
       "      <td>53438.0</td>\n",
       "      <td>NaN</td>\n",
       "      <td>37.719862</td>\n",
       "      <td>-122.485353</td>\n",
       "    </tr>\n",
       "  </tbody>\n",
       "</table>\n",
       "</div>"
      ],
      "text/plain": [
       "    timestamp      bboxid        GEOID  \\\n",
       "0  1451606400  bbox_10_14  60750604002   \n",
       "1  1451692800  bbox_10_14  60750604002   \n",
       "2  1451779200  bbox_10_14  60750604002   \n",
       "3  1451865600  bbox_10_14  60750604002   \n",
       "4  1451952000  bbox_10_14  60750604002   \n",
       "\n",
       "                                       geometry_bbox  \\\n",
       "0  POLYGON ((-122.4862707014277 37.71914041535512...   \n",
       "1  POLYGON ((-122.4862707014277 37.71914041535512...   \n",
       "2  POLYGON ((-122.4862707014277 37.71914041535512...   \n",
       "3  POLYGON ((-122.4862707014277 37.71914041535512...   \n",
       "4  POLYGON ((-122.4862707014277 37.71914041535512...   \n",
       "\n",
       "                              center_latlon   max   min  precipitation  \\\n",
       "0  (37.71986168151697, -122.48535268128838)  50.0  40.0           0.00   \n",
       "1  (37.71986168151697, -122.48535268128838)  51.0  45.0           0.00   \n",
       "2  (37.71986168151697, -122.48535268128838)  55.0  46.0           0.02   \n",
       "3  (37.71986168151697, -122.48535268128838)  57.0  47.0           0.09   \n",
       "4  (37.71986168151697, -122.48535268128838)  54.0  50.0           1.18   \n",
       "\n",
       "   total_population  white_ratio  black_ratio  hh_median_income  ground_truth  \\\n",
       "0               506     0.806324          0.0           53438.0           NaN   \n",
       "1               506     0.806324          0.0           53438.0           NaN   \n",
       "2               506     0.806324          0.0           53438.0           NaN   \n",
       "3               506     0.806324          0.0           53438.0           NaN   \n",
       "4               506     0.806324          0.0           53438.0           NaN   \n",
       "\n",
       "    latitude   longitude  \n",
       "0  37.719862 -122.485353  \n",
       "1  37.719862 -122.485353  \n",
       "2  37.719862 -122.485353  \n",
       "3  37.719862 -122.485353  \n",
       "4  37.719862 -122.485353  "
      ]
     },
     "execution_count": 10,
     "metadata": {},
     "output_type": "execute_result"
    }
   ],
   "source": [
    "df_test.head()"
   ]
  },
  {
   "cell_type": "code",
   "execution_count": 13,
   "id": "f7fc8ae4",
   "metadata": {},
   "outputs": [
    {
     "name": "stdout",
     "output_type": "stream",
     "text": [
      "Missing values in df_test: timestamp           0\n",
      "bboxid              0\n",
      "GEOID               0\n",
      "geometry_bbox       0\n",
      "center_latlon       0\n",
      "max                 0\n",
      "min                 0\n",
      "precipitation       0\n",
      "total_population    0\n",
      "white_ratio         0\n",
      "black_ratio         0\n",
      "hh_median_income    0\n",
      "latitude            0\n",
      "longitude           0\n",
      "dtype: int64\n"
     ]
    }
   ],
   "source": [
    "# Check for missing values in df_test except 'ground_truth'\n",
    "missing_values = df_test.drop(columns=['ground_truth']).isnull().sum()\n",
    "print(\"Missing values in df_test:\", missing_values)"
   ]
  },
  {
   "cell_type": "code",
   "execution_count": null,
   "id": "5b450c10",
   "metadata": {},
   "outputs": [],
   "source": []
  },
  {
   "cell_type": "code",
   "execution_count": null,
   "id": "d5f17677",
   "metadata": {},
   "outputs": [],
   "source": []
  },
  {
   "cell_type": "code",
   "execution_count": null,
   "id": "689bc60a",
   "metadata": {},
   "outputs": [],
   "source": []
  },
  {
   "cell_type": "code",
   "execution_count": null,
   "id": "a89f6d8f",
   "metadata": {},
   "outputs": [],
   "source": []
  }
 ],
 "metadata": {
  "kernelspec": {
   "display_name": "homeless_env",
   "language": "python",
   "name": "python3"
  },
  "language_info": {
   "codemirror_mode": {
    "name": "ipython",
    "version": 3
   },
   "file_extension": ".py",
   "mimetype": "text/x-python",
   "name": "python",
   "nbconvert_exporter": "python",
   "pygments_lexer": "ipython3",
   "version": "3.11.11"
  }
 },
 "nbformat": 4,
 "nbformat_minor": 5
}
